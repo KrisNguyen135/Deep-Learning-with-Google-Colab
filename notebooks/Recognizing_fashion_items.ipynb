{
  "nbformat": 4,
  "nbformat_minor": 0,
  "metadata": {
    "colab": {
      "name": "Recognizing fashion items.ipynb",
      "provenance": [],
      "collapsed_sections": [],
      "include_colab_link": true
    },
    "kernelspec": {
      "name": "python3",
      "display_name": "Python 3"
    },
    "accelerator": "GPU"
  },
  "cells": [
    {
      "cell_type": "markdown",
      "metadata": {
        "id": "view-in-github",
        "colab_type": "text"
      },
      "source": [
        "<a href=\"https://colab.research.google.com/github/KrisNguyen135/Deep-Learning-with-Google-Colab/blob/master/notebooks/Recognizing_fashion_items.ipynb\" target=\"_parent\"><img src=\"https://colab.research.google.com/assets/colab-badge.svg\" alt=\"Open In Colab\"/></a>"
      ]
    },
    {
      "cell_type": "code",
      "metadata": {
        "id": "wKO-BUfxr1RR",
        "colab_type": "code",
        "colab": {}
      },
      "source": [
        "import torch; torch.manual_seed(0)\n",
        "import torchvision\n",
        "\n",
        "import numpy as np\n",
        "import matplotlib.pyplot as plt\n",
        "import random; random.seed(0)\n",
        "\n",
        "from sklearn.metrics import classification_report\n",
        "import math"
      ],
      "execution_count": 0,
      "outputs": []
    },
    {
      "cell_type": "code",
      "metadata": {
        "id": "oZLdZovWsKCq",
        "colab_type": "code",
        "outputId": "3cb8e32d-5e6d-4f81-f620-9b0c2dc29c10",
        "colab": {
          "base_uri": "https://localhost:8080/",
          "height": 34
        }
      },
      "source": [
        "if torch.cuda.is_available():\n",
        "    print('CUDA is available. Using the GPU.')\n",
        "    device = torch.device('cuda')\n",
        "else:\n",
        "    print('CUDA is not available. Using the CPU.')\n",
        "    device = torch.device('cpu')"
      ],
      "execution_count": 0,
      "outputs": [
        {
          "output_type": "stream",
          "text": [
            "CUDA is available. Using the GPU.\n"
          ],
          "name": "stdout"
        }
      ]
    },
    {
      "cell_type": "code",
      "metadata": {
        "id": "dWtx4b7VsQt8",
        "colab_type": "code",
        "outputId": "1a5487b5-19f7-4353-dd95-878f0e51d44f",
        "colab": {
          "base_uri": "https://localhost:8080/",
          "height": 530
        }
      },
      "source": [
        "train_dataset = torchvision.datasets.FashionMNIST(\n",
        "    './train',\n",
        "    train=True,\n",
        "    transform=torchvision.transforms.ToTensor(),\n",
        "    download=True\n",
        ")\n",
        "\n",
        "val_dataset = torchvision.datasets.FashionMNIST(\n",
        "    './val',\n",
        "    train=False,\n",
        "    transform=torchvision.transforms.ToTensor(),\n",
        "    download=True\n",
        ")"
      ],
      "execution_count": 0,
      "outputs": [
        {
          "output_type": "stream",
          "text": [
            "\r0it [00:00, ?it/s]"
          ],
          "name": "stderr"
        },
        {
          "output_type": "stream",
          "text": [
            "Downloading http://fashion-mnist.s3-website.eu-central-1.amazonaws.com/train-images-idx3-ubyte.gz to ./train/FashionMNIST/raw/train-images-idx3-ubyte.gz\n"
          ],
          "name": "stdout"
        },
        {
          "output_type": "stream",
          "text": [
            "26427392it [00:01, 13735396.94it/s]                             \n"
          ],
          "name": "stderr"
        },
        {
          "output_type": "stream",
          "text": [
            "Extracting ./train/FashionMNIST/raw/train-images-idx3-ubyte.gz\n"
          ],
          "name": "stdout"
        },
        {
          "output_type": "stream",
          "text": [
            "\r0it [00:00, ?it/s]"
          ],
          "name": "stderr"
        },
        {
          "output_type": "stream",
          "text": [
            "Downloading http://fashion-mnist.s3-website.eu-central-1.amazonaws.com/train-labels-idx1-ubyte.gz to ./train/FashionMNIST/raw/train-labels-idx1-ubyte.gz\n"
          ],
          "name": "stdout"
        },
        {
          "output_type": "stream",
          "text": [
            "32768it [00:00, 95431.66it/s]                            \n",
            "0it [00:00, ?it/s]"
          ],
          "name": "stderr"
        },
        {
          "output_type": "stream",
          "text": [
            "Extracting ./train/FashionMNIST/raw/train-labels-idx1-ubyte.gz\n",
            "Downloading http://fashion-mnist.s3-website.eu-central-1.amazonaws.com/t10k-images-idx3-ubyte.gz to ./train/FashionMNIST/raw/t10k-images-idx3-ubyte.gz\n"
          ],
          "name": "stdout"
        },
        {
          "output_type": "stream",
          "text": [
            "4423680it [00:01, 3989222.05it/s]                             \n",
            "0it [00:00, ?it/s]"
          ],
          "name": "stderr"
        },
        {
          "output_type": "stream",
          "text": [
            "Extracting ./train/FashionMNIST/raw/t10k-images-idx3-ubyte.gz\n",
            "Downloading http://fashion-mnist.s3-website.eu-central-1.amazonaws.com/t10k-labels-idx1-ubyte.gz to ./train/FashionMNIST/raw/t10k-labels-idx1-ubyte.gz\n"
          ],
          "name": "stdout"
        },
        {
          "output_type": "stream",
          "text": [
            "8192it [00:00, 30485.25it/s]            \n",
            "0it [00:00, ?it/s]"
          ],
          "name": "stderr"
        },
        {
          "output_type": "stream",
          "text": [
            "Extracting ./train/FashionMNIST/raw/t10k-labels-idx1-ubyte.gz\n",
            "Processing...\n",
            "Done!\n",
            "Downloading http://fashion-mnist.s3-website.eu-central-1.amazonaws.com/train-images-idx3-ubyte.gz to ./val/FashionMNIST/raw/train-images-idx3-ubyte.gz\n"
          ],
          "name": "stdout"
        },
        {
          "output_type": "stream",
          "text": [
            "26427392it [00:01, 13664896.49it/s]                              \n"
          ],
          "name": "stderr"
        },
        {
          "output_type": "stream",
          "text": [
            "Extracting ./val/FashionMNIST/raw/train-images-idx3-ubyte.gz\n"
          ],
          "name": "stdout"
        },
        {
          "output_type": "stream",
          "text": [
            "\r0it [00:00, ?it/s]"
          ],
          "name": "stderr"
        },
        {
          "output_type": "stream",
          "text": [
            "Downloading http://fashion-mnist.s3-website.eu-central-1.amazonaws.com/train-labels-idx1-ubyte.gz to ./val/FashionMNIST/raw/train-labels-idx1-ubyte.gz\n"
          ],
          "name": "stdout"
        },
        {
          "output_type": "stream",
          "text": [
            "32768it [00:00, 96260.39it/s]                            \n",
            "0it [00:00, ?it/s]"
          ],
          "name": "stderr"
        },
        {
          "output_type": "stream",
          "text": [
            "Extracting ./val/FashionMNIST/raw/train-labels-idx1-ubyte.gz\n",
            "Downloading http://fashion-mnist.s3-website.eu-central-1.amazonaws.com/t10k-images-idx3-ubyte.gz to ./val/FashionMNIST/raw/t10k-images-idx3-ubyte.gz\n"
          ],
          "name": "stdout"
        },
        {
          "output_type": "stream",
          "text": [
            "4423680it [00:01, 4063764.49it/s]                             \n",
            "0it [00:00, ?it/s]"
          ],
          "name": "stderr"
        },
        {
          "output_type": "stream",
          "text": [
            "Extracting ./val/FashionMNIST/raw/t10k-images-idx3-ubyte.gz\n",
            "Downloading http://fashion-mnist.s3-website.eu-central-1.amazonaws.com/t10k-labels-idx1-ubyte.gz to ./val/FashionMNIST/raw/t10k-labels-idx1-ubyte.gz\n"
          ],
          "name": "stdout"
        },
        {
          "output_type": "stream",
          "text": [
            "8192it [00:00, 33638.17it/s]            "
          ],
          "name": "stderr"
        },
        {
          "output_type": "stream",
          "text": [
            "Extracting ./val/FashionMNIST/raw/t10k-labels-idx1-ubyte.gz\n",
            "Processing...\n",
            "Done!\n"
          ],
          "name": "stdout"
        },
        {
          "output_type": "stream",
          "text": [
            "\n"
          ],
          "name": "stderr"
        }
      ]
    },
    {
      "cell_type": "code",
      "metadata": {
        "id": "b7QwNs-Ft-nI",
        "colab_type": "code",
        "colab": {}
      },
      "source": [
        "batch_size = 128  # to be changed to 128\n",
        "\n",
        "train_loader = torch.utils.data.DataLoader(train_dataset, batch_size=batch_size,\n",
        "                                           shuffle=True)\n",
        "val_loader = torch.utils.data.DataLoader(val_dataset, batch_size=batch_size)"
      ],
      "execution_count": 0,
      "outputs": []
    },
    {
      "cell_type": "code",
      "metadata": {
        "id": "Js3-O_ACuM6A",
        "colab_type": "code",
        "outputId": "61e9de58-2850-4087-e299-77e35724244a",
        "colab": {
          "base_uri": "https://localhost:8080/",
          "height": 301
        }
      },
      "source": [
        "for images, labels in train_loader:\n",
        "    grid = torchvision.utils.make_grid(images)\n",
        "    \n",
        "    plt.imshow(grid.numpy().transpose((1, 2, 0)))\n",
        "    \n",
        "    # Print out actual labels instead of label indices.\n",
        "    #plt.title(labels.numpy())  # label indices\n",
        "    plt.title([train_dataset.classes[label] for label in labels.numpy()])\n",
        "    \n",
        "    plt.axis('off')\n",
        "    \n",
        "    plt.show()\n",
        "    \n",
        "    break"
      ],
      "execution_count": 0,
      "outputs": [
        {
          "output_type": "display_data",
          "data": {
            "image/png": "[encoded data removed]",
            "text/plain": [
              "<Figure size 432x288 with 1 Axes>"
            ]
          },
          "metadata": {
            "tags": []
          }
        }
      ]
    },
    {
      "cell_type": "code",
      "metadata": {
        "id": "AnSHH29GwyJB",
        "colab_type": "code",
        "outputId": "c8f6457d-9145-431c-ba39-7cb38583d62d",
        "colab": {
          "base_uri": "https://localhost:8080/",
          "height": 34
        }
      },
      "source": [
        "train_dataset.data.shape"
      ],
      "execution_count": 0,
      "outputs": [
        {
          "output_type": "execute_result",
          "data": {
            "text/plain": [
              "torch.Size([60000, 28, 28])"
            ]
          },
          "metadata": {
            "tags": []
          },
          "execution_count": 5
        }
      ]
    },
    {
      "cell_type": "code",
      "metadata": {
        "id": "YmBswILIuZ0o",
        "colab_type": "code",
        "colab": {}
      },
      "source": [
        "class DoubleLayerNet(torch.nn.Module):\n",
        "    def __init__(self, hidden_size1, hidden_size2):\n",
        "        super(DoubleLayerNet, self).__init__()\n",
        "        self.hidden1 = torch.nn.Linear(28 * 28, hidden_size1)\n",
        "        self.relu1 = torch.nn.ReLU()\n",
        "        self.hidden2 = torch.nn.Linear(hidden_size1, hidden_size2)\n",
        "        self.relu2 = torch.nn.ReLU()\n",
        "        self.output = torch.nn.Linear(hidden_size2, 10)\n",
        "        \n",
        "    def forward(self, x):\n",
        "        out = self.hidden1(x)\n",
        "        out = self.relu1(out)\n",
        "        out = self.hidden2(out)\n",
        "        out = self.relu2(out)\n",
        "        out = self.output(out)\n",
        "        \n",
        "        return out"
      ],
      "execution_count": 0,
      "outputs": []
    },
    {
      "cell_type": "code",
      "metadata": {
        "id": "CQhcVvWhy3vU",
        "colab_type": "code",
        "colab": {}
      },
      "source": [
        "n_epochs = 10\n",
        "learning_rate = 0.0001\n",
        "\n",
        "model = DoubleLayerNet(128, 128).to(device)\n",
        "\n",
        "criterion = torch.nn.CrossEntropyLoss()\n",
        "optimizer = torch.optim.Adam(model.parameters(), lr=learning_rate)"
      ],
      "execution_count": 0,
      "outputs": []
    },
    {
      "cell_type": "code",
      "metadata": {
        "id": "IlxUIC0RzNrg",
        "colab_type": "code",
        "outputId": "8cb473ee-1791-462f-f956-9600b0961573",
        "colab": {
          "base_uri": "https://localhost:8080/",
          "height": 193
        }
      },
      "source": [
        "losses = []\n",
        "\n",
        "model.train()\n",
        "\n",
        "for epoch in range(n_epochs):\n",
        "    running_loss = 0\n",
        "    \n",
        "    for images, labels in train_loader:\n",
        "        images = images.reshape(-1, 28 * 28).to(device)\n",
        "        labels = labels.to(device)\n",
        "        \n",
        "        output = model(images)\n",
        "        loss = criterion(output, labels)\n",
        "        \n",
        "        optimizer.zero_grad()\n",
        "        loss.backward()\n",
        "        optimizer.step()\n",
        "        \n",
        "        running_loss += loss.item() * images.size(0)\n",
        "        \n",
        "    losses.append(running_loss / len(train_loader))\n",
        "    \n",
        "    print(f'Epoch {epoch + 1}/{n_epochs}: {losses[-1]:.4f}')"
      ],
      "execution_count": 0,
      "outputs": [
        {
          "output_type": "stream",
          "text": [
            "Epoch 1/10: 139.2133\n",
            "Epoch 2/10: 75.0887\n",
            "Epoch 3/10: 64.7159\n",
            "Epoch 4/10: 59.7242\n",
            "Epoch 5/10: 56.7387\n",
            "Epoch 6/10: 54.5373\n",
            "Epoch 7/10: 52.8157\n",
            "Epoch 8/10: 51.5552\n",
            "Epoch 9/10: 50.4196\n",
            "Epoch 10/10: 49.3879\n"
          ],
          "name": "stdout"
        }
      ]
    },
    {
      "cell_type": "code",
      "metadata": {
        "id": "jPMd13b80F8j",
        "colab_type": "code",
        "outputId": "0776a00d-cb76-4b1c-d246-3ef13a439cc4",
        "colab": {
          "base_uri": "https://localhost:8080/",
          "height": 269
        }
      },
      "source": [
        "plt.plot(losses)\n",
        "plt.show()"
      ],
      "execution_count": 0,
      "outputs": [
        {
          "output_type": "display_data",
          "data": {
            "image/png": "[encoded data removed]",
            "text/plain": [
              "<Figure size 432x288 with 1 Axes>"
            ]
          },
          "metadata": {
            "tags": []
          }
        }
      ]
    },
    {
      "cell_type": "code",
      "metadata": {
        "id": "Gb2RUoGI0d2x",
        "colab_type": "code",
        "outputId": "0f1b90a4-959c-4921-8ffd-695b2ac3ecc6",
        "colab": {
          "base_uri": "https://localhost:8080/",
          "height": 316
        }
      },
      "source": [
        "model.eval()\n",
        "\n",
        "with torch.no_grad():\n",
        "    y_true = []\n",
        "    y_pred = []\n",
        "    \n",
        "    for images, labels in val_loader:\n",
        "        images = images.reshape(-1, 28 * 28).to(device)\n",
        "        labels = labels.to(device)\n",
        "        \n",
        "        output = model(images)\n",
        "        _, preds = torch.max(output.data, 1)\n",
        "        \n",
        "        y_true += list(labels.cpu().numpy())\n",
        "        y_pred += list(preds.cpu().numpy())\n",
        "        \n",
        "    print(classification_report(y_true, y_pred, target_names=train_dataset.classes))"
      ],
      "execution_count": 0,
      "outputs": [
        {
          "output_type": "stream",
          "text": [
            "              precision    recall  f1-score   support\n",
            "\n",
            " T-shirt/top       0.78      0.86      0.81      1000\n",
            "     Trouser       0.98      0.95      0.97      1000\n",
            "    Pullover       0.69      0.82      0.75      1000\n",
            "       Dress       0.83      0.87      0.85      1000\n",
            "        Coat       0.80      0.66      0.72      1000\n",
            "      Sandal       0.95      0.95      0.95      1000\n",
            "       Shirt       0.67      0.57      0.62      1000\n",
            "     Sneaker       0.92      0.94      0.93      1000\n",
            "         Bag       0.95      0.95      0.95      1000\n",
            "  Ankle boot       0.95      0.94      0.95      1000\n",
            "\n",
            "    accuracy                           0.85     10000\n",
            "   macro avg       0.85      0.85      0.85     10000\n",
            "weighted avg       0.85      0.85      0.85     10000\n",
            "\n"
          ],
          "name": "stdout"
        }
      ]
    },
    {
      "cell_type": "code",
      "metadata": {
        "id": "Oxs8TH022bZ8",
        "colab_type": "code",
        "colab": {}
      },
      "source": [
        "class ConvNet(torch.nn.Module):\n",
        "    def __init__(self):\n",
        "        super(ConvNet, self).__init__()\n",
        "        \n",
        "        self.conv1 = torch.nn.Conv2d(1, 16, 3, padding=1)\n",
        "        torch.nn.init.xavier_uniform_(self.conv1.weight)\n",
        "        self.pooling1 = torch.nn.MaxPool2d(2)\n",
        "        self.relu1 = torch.nn.ReLU()\n",
        "        \n",
        "        self.conv2 = torch.nn.Conv2d(16, 32, 3, padding=1)\n",
        "        torch.nn.init.xavier_uniform_(self.conv2.weight)\n",
        "        self.pooling2 = torch.nn.MaxPool2d(2)\n",
        "        self.relu2 = torch.nn.ReLU()\n",
        "        \n",
        "        self.output = torch.nn.Linear(1568, 10)\n",
        "        \n",
        "    def forward(self, x):\n",
        "        out = self.conv1(x)\n",
        "        out = self.pooling1(out)\n",
        "        out = self.relu1(out)\n",
        "        \n",
        "        out = self.conv2(out)\n",
        "        out = self.pooling2(out)\n",
        "        out = self.relu2(out)\n",
        "        \n",
        "        out = out.view(out.size(0), -1)\n",
        "        out = self.output(out)\n",
        "        \n",
        "        return out"
      ],
      "execution_count": 0,
      "outputs": []
    },
    {
      "cell_type": "code",
      "metadata": {
        "id": "NgTwjKW95HRK",
        "colab_type": "code",
        "colab": {}
      },
      "source": [
        "n_epochs = 16\n",
        "\n",
        "model = ConvNet().to(device)\n",
        "\n",
        "optimizer = torch.optim.Adam(model.parameters(), lr=learning_rate)"
      ],
      "execution_count": 0,
      "outputs": []
    },
    {
      "cell_type": "code",
      "metadata": {
        "id": "gUL77HNW5VWq",
        "colab_type": "code",
        "outputId": "a02b1de6-5a5b-414a-ce83-d715551b4634",
        "colab": {
          "base_uri": "https://localhost:8080/",
          "height": 298
        }
      },
      "source": [
        "losses = []\n",
        "\n",
        "model.train()\n",
        "\n",
        "for epoch in range(n_epochs):\n",
        "    running_loss = 0\n",
        "    \n",
        "    for images, labels in train_loader:\n",
        "        images = images.to(device)  # no reshaping\n",
        "        labels = labels.to(device)\n",
        "        \n",
        "        output = model(images)\n",
        "        loss = criterion(output, labels)\n",
        "        \n",
        "        optimizer.zero_grad()\n",
        "        loss.backward()\n",
        "        optimizer.step()\n",
        "        \n",
        "        running_loss += loss.item() * images.size(0)\n",
        "        \n",
        "    losses.append(running_loss / len(train_loader))\n",
        "    \n",
        "    print(f'Epoch {epoch + 1}/{n_epochs}: {losses[-1]:.4f}')"
      ],
      "execution_count": 0,
      "outputs": [
        {
          "output_type": "stream",
          "text": [
            "Epoch 1/16: 157.1469\n",
            "Epoch 2/16: 83.7064\n",
            "Epoch 3/16: 72.3776\n",
            "Epoch 4/16: 65.8992\n",
            "Epoch 5/16: 61.6656\n",
            "Epoch 6/16: 58.6192\n",
            "Epoch 7/16: 56.1000\n",
            "Epoch 8/16: 54.1668\n",
            "Epoch 9/16: 52.5234\n",
            "Epoch 10/16: 51.0672\n",
            "Epoch 11/16: 49.9345\n",
            "Epoch 12/16: 48.9391\n",
            "Epoch 13/16: 48.0639\n",
            "Epoch 14/16: 47.1443\n",
            "Epoch 15/16: 46.4817\n",
            "Epoch 16/16: 45.6585\n"
          ],
          "name": "stdout"
        }
      ]
    },
    {
      "cell_type": "code",
      "metadata": {
        "id": "f7lFLN_D5Zw5",
        "colab_type": "code",
        "outputId": "89441635-3bad-42d3-ae43-3fea285e35a6",
        "colab": {
          "base_uri": "https://localhost:8080/",
          "height": 269
        }
      },
      "source": [
        "plt.plot(losses)\n",
        "plt.show()"
      ],
      "execution_count": 0,
      "outputs": [
        {
          "output_type": "display_data",
          "data": {
            "image/png": "[encoded data removed]",
            "text/plain": [
              "<Figure size 432x288 with 1 Axes>"
            ]
          },
          "metadata": {
            "tags": []
          }
        }
      ]
    },
    {
      "cell_type": "code",
      "metadata": {
        "id": "EH5Ax_b255eq",
        "colab_type": "code",
        "outputId": "f4bf79c9-7b67-4f62-dd84-26760d23b922",
        "colab": {
          "base_uri": "https://localhost:8080/",
          "height": 316
        }
      },
      "source": [
        "model.eval()\n",
        "\n",
        "with torch.no_grad():\n",
        "    y_true = []\n",
        "    y_pred = []\n",
        "    \n",
        "    for images, labels in val_loader:\n",
        "        images = images.to(device)  # no reshaping\n",
        "        labels = labels.to(device)\n",
        "        \n",
        "        output = model(images)\n",
        "        _, preds = torch.max(output.data, 1)\n",
        "        \n",
        "        y_true += list(labels.cpu().numpy())\n",
        "        y_pred += list(preds.cpu().numpy())\n",
        "        \n",
        "    print(classification_report(y_true, y_pred, target_names=train_dataset.classes))"
      ],
      "execution_count": 0,
      "outputs": [
        {
          "output_type": "stream",
          "text": [
            "              precision    recall  f1-score   support\n",
            "\n",
            " T-shirt/top       0.82      0.82      0.82      1000\n",
            "     Trouser       0.99      0.97      0.98      1000\n",
            "    Pullover       0.80      0.78      0.79      1000\n",
            "       Dress       0.85      0.89      0.87      1000\n",
            "        Coat       0.76      0.78      0.77      1000\n",
            "      Sandal       0.96      0.95      0.96      1000\n",
            "       Shirt       0.65      0.62      0.64      1000\n",
            "     Sneaker       0.91      0.94      0.93      1000\n",
            "         Bag       0.94      0.97      0.96      1000\n",
            "  Ankle boot       0.96      0.94      0.95      1000\n",
            "\n",
            "    accuracy                           0.87     10000\n",
            "   macro avg       0.87      0.87      0.87     10000\n",
            "weighted avg       0.87      0.87      0.87     10000\n",
            "\n"
          ],
          "name": "stdout"
        }
      ]
    },
    {
      "cell_type": "code",
      "metadata": {
        "id": "cabFycqz6tFN",
        "colab_type": "code",
        "colab": {}
      },
      "source": [
        "class BasicBlock(torch.nn.Module):\n",
        "    expansion = 1\n",
        "    \n",
        "    def __init__(self, inplanes, planes, stride=1, downsample=None):\n",
        "        super(BasicBlock, self).__init__()\n",
        "        self.conv1 = torch.nn.Conv2d(inplanes, planes, kernel_size=3,\n",
        "                                    stride=stride, padding=1, bias=False)\n",
        "        self.bn1 = torch.nn.BatchNorm2d(planes)\n",
        "        self.relu = torch.nn.ReLU(inplace=True)\n",
        "        \n",
        "        self.conv2 = torch.nn.Conv2d(planes, planes, kernel_size=3,\n",
        "                                     stride=1, padding=1, bias=False)\n",
        "        self.bn2 = torch.nn.BatchNorm2d(planes)\n",
        "        self.downsample = downsample\n",
        "        self.stride = stride\n",
        "    \n",
        "    def forward(self, x):\n",
        "        residual = x\n",
        "        \n",
        "        out = self.conv1(x)\n",
        "        out = self.bn1(out)\n",
        "        out = self.relu(out)\n",
        "        \n",
        "        out = self.conv2(out)\n",
        "        out = self.bn2(out)\n",
        "        \n",
        "        if self.downsample is not None:\n",
        "            residual = self.downsample(x)\n",
        "        \n",
        "        out += residual\n",
        "        out = self.relu(out)\n",
        "        \n",
        "        return out"
      ],
      "execution_count": 0,
      "outputs": []
    },
    {
      "cell_type": "code",
      "metadata": {
        "id": "QFqRSAxV63tr",
        "colab_type": "code",
        "colab": {}
      },
      "source": [
        "class Bottleneck(torch.nn.Module):\n",
        "    expansion = 4\n",
        "    \n",
        "    def __init__(self, inplanes, planes, stride=1, downsample=None):\n",
        "        super(Bottleneck, self).__init__()\n",
        "        self.conv1 = torch.nn.Conv2d(inplanes, planes, kernel_size=1, bias=False)\n",
        "        self.bn1 = torch.nn.BatchNorm2d(planes)\n",
        "\n",
        "        self.conv2 = torch.nn.Conv2d(planes, planes, kernel_size=3, stride=stride,\n",
        "                                     padding=1, bias=False)\n",
        "        self.bn2 = torch.nn.BatchNorm2d(planes)\n",
        "\n",
        "        self.conv3 = torch.nn.Conv2d(planes, planes*4, kernel_size=1, bias=False)\n",
        "        self.bn3 = torch.nn.BatchNorm2d(planes*4)\n",
        "\n",
        "        self.relu = torch.nn.ReLU(inplace=True)\n",
        "        self.downsample = downsample\n",
        "        self.stride = stride\n",
        "\n",
        "    def forward(self, x):\n",
        "        residual = x\n",
        "\n",
        "        out = self.conv1(x)\n",
        "        out = self.bn1(out)\n",
        "        out = self.relu(out)\n",
        "\n",
        "        out = self.conv2(out)\n",
        "        out = self.bn2(out)\n",
        "        out = self.relu(out)\n",
        "\n",
        "        out = self.conv3(out)\n",
        "        out = self.bn3(out)\n",
        "\n",
        "        if self.downsample is not None:\n",
        "            residual = self.downsample(x)\n",
        "\n",
        "        out += residual\n",
        "        out = self.relu(out)\n",
        "\n",
        "        return out"
      ],
      "execution_count": 0,
      "outputs": []
    },
    {
      "cell_type": "code",
      "metadata": {
        "id": "cH8x6I3Y7KkZ",
        "colab_type": "code",
        "colab": {}
      },
      "source": [
        "class ResNet(torch.nn.Module):\n",
        "    def __init__(self, block, layers, num_classes=10):\n",
        "        self.inplanes = 64\n",
        "        super(ResNet, self).__init__()\n",
        "        self.conv1 = torch.nn.Conv2d(1, 64, kernel_size=3, stride=1, padding=1,\n",
        "                                     bias=False)\n",
        "        self.bn1 = torch.nn.BatchNorm2d(64)\n",
        "        self.relu = torch.nn.ReLU(inplace=True)\n",
        "        \n",
        "        self.layer1 = self._make_layer(block, 64, layers[0])\n",
        "        self.layer2 = self._make_layer(block, 128, layers[1], stride=2)\n",
        "        self.layer3 = self._make_layer(block, 256, layers[2], stride=2)\n",
        "        \n",
        "        self.avgpool = torch.nn.AvgPool2d(7)\n",
        "        self.fc = torch.nn.Linear(256 * block.expansion, num_classes)\n",
        "        \n",
        "        for m in self.modules():\n",
        "            if isinstance(m, torch.nn.Conv2d):\n",
        "                n = m.kernel_size[0] * m.kernel_size[1] * m.out_channels\n",
        "                m.weight.data.normal_(0, math.sqrt(2. / n))\n",
        "            elif isinstance(m, torch.nn.BatchNorm2d):\n",
        "                m.weight.data.fill_(1)\n",
        "                m.bias.data.zero_()\n",
        "    \n",
        "    def _make_layer(self, block, planes, blocks, stride=1):\n",
        "        downsample = None\n",
        "        if stride != 1 or self.inplanes != planes * block.expansion:\n",
        "            downsample = torch.nn.Sequential(\n",
        "                torch.nn.Conv2d(self.inplanes, planes * block.expansion,\n",
        "                                kernel_size=1, stride=stride, bias=False),\n",
        "                torch.nn.BatchNorm2d(planes*block.expansion)\n",
        "            )\n",
        "            \n",
        "        layers = []\n",
        "        layers.append(block(self.inplanes, planes, stride, downsample))\n",
        "        self.inplanes = planes * block.expansion\n",
        "        for i in range(1, blocks):\n",
        "            layers.append(block(self.inplanes, planes))\n",
        "        \n",
        "        return torch.nn.Sequential(*layers)\n",
        "    \n",
        "    def forward(self, x):\n",
        "        x = self.conv1(x)\n",
        "        x = self.bn1(x)\n",
        "        x = self.relu(x)\n",
        "        \n",
        "        x = self.layer1(x)\n",
        "        x = self.layer2(x)\n",
        "        x = self.layer3(x)\n",
        "        \n",
        "        x = self.avgpool(x)\n",
        "        x = x.view(x.size(0), -1)\n",
        "        x = self.fc(x)\n",
        "        \n",
        "        return x"
      ],
      "execution_count": 0,
      "outputs": []
    },
    {
      "cell_type": "code",
      "metadata": {
        "id": "km91CrFU7e3w",
        "colab_type": "code",
        "colab": {}
      },
      "source": [
        "n_epochs = 10\n",
        "\n",
        "model = ResNet(BasicBlock, [2, 2, 2, 2]).to(device)  # resnet 18\n",
        "#model = ResNet(BasicBlock, [3, 4, 6, 3]).to(device)  # resnet 34\n",
        "#model = ResNet(Bottleneck, [3, 4, 6, 3]).to(device)  # resnet 50\n",
        "#model = ResNet(Bottleneck, [3, 4, 23, 3]).to(device)  # resnet 101\n",
        "#model = ResNet(Bottleneck, [3, 8, 26, 3]).to(device)  # resnet 152\n",
        "\n",
        "#model = torchvision.models.resnet18(pretrained=False)  # pre-implemented from torchvision\n",
        "\n",
        "optimizer = torch.optim.Adam(model.parameters(), lr=learning_rate)"
      ],
      "execution_count": 0,
      "outputs": []
    },
    {
      "cell_type": "code",
      "metadata": {
        "id": "Wh8sY7FX7vvk",
        "colab_type": "code",
        "outputId": "f1f6a792-0307-4583-a1c8-7ef7e651551a",
        "colab": {
          "base_uri": "https://localhost:8080/",
          "height": 193
        }
      },
      "source": [
        "losses = []\n",
        "\n",
        "model.train()\n",
        "\n",
        "for epoch in range(n_epochs):\n",
        "    running_loss = 0\n",
        "    \n",
        "    for images, labels in train_loader:\n",
        "        images = images.to(device)  # no reshaping\n",
        "        labels = labels.to(device)\n",
        "        \n",
        "        output = model(images)\n",
        "        loss = criterion(output, labels)\n",
        "        \n",
        "        optimizer.zero_grad()\n",
        "        loss.backward()\n",
        "        optimizer.step()\n",
        "        \n",
        "        running_loss += loss.item() * images.size(0)\n",
        "        \n",
        "    losses.append(running_loss / len(train_loader))\n",
        "    \n",
        "    print(f'Epoch {epoch + 1}/{n_epochs}: {losses[-1]:.4f}')"
      ],
      "execution_count": 0,
      "outputs": [
        {
          "output_type": "stream",
          "text": [
            "Epoch 1/10: 68.8405\n",
            "Epoch 2/10: 36.2596\n",
            "Epoch 3/10: 28.7467\n",
            "Epoch 4/10: 22.6858\n",
            "Epoch 5/10: 17.5571\n",
            "Epoch 6/10: 12.9039\n",
            "Epoch 7/10: 9.1889\n",
            "Epoch 8/10: 6.4147\n",
            "Epoch 9/10: 4.9704\n",
            "Epoch 10/10: 3.7776\n"
          ],
          "name": "stdout"
        }
      ]
    },
    {
      "cell_type": "code",
      "metadata": {
        "id": "vBtYy1MR8OgU",
        "colab_type": "code",
        "outputId": "dd1a1901-98a1-45a3-a50f-5736814dc7bb",
        "colab": {
          "base_uri": "https://localhost:8080/",
          "height": 269
        }
      },
      "source": [
        "plt.plot(losses)\n",
        "plt.show()"
      ],
      "execution_count": 0,
      "outputs": [
        {
          "output_type": "display_data",
          "data": {
            "image/png": "[encoded data removed]",
            "text/plain": [
              "<Figure size 432x288 with 1 Axes>"
            ]
          },
          "metadata": {
            "tags": []
          }
        }
      ]
    },
    {
      "cell_type": "code",
      "metadata": {
        "id": "2_smWhmj89wm",
        "colab_type": "code",
        "outputId": "09126f7c-19d8-4f33-ea08-5a36db8b5656",
        "colab": {
          "base_uri": "https://localhost:8080/",
          "height": 316
        }
      },
      "source": [
        "model.eval()\n",
        "\n",
        "with torch.no_grad():\n",
        "    y_true = []\n",
        "    y_pred = []\n",
        "    \n",
        "    for images, labels in val_loader:\n",
        "        images = images.to(device)  # no reshaping\n",
        "        labels = labels.to(device)\n",
        "        \n",
        "        output = model(images)\n",
        "        _, preds = torch.max(output.data, 1)\n",
        "        \n",
        "        y_true += list(labels.cpu().numpy())\n",
        "        y_pred += list(preds.cpu().numpy())\n",
        "        \n",
        "    print(classification_report(y_true, y_pred, target_names=train_dataset.classes))"
      ],
      "execution_count": 0,
      "outputs": [
        {
          "output_type": "stream",
          "text": [
            "              precision    recall  f1-score   support\n",
            "\n",
            " T-shirt/top       0.86      0.88      0.87      1000\n",
            "     Trouser       0.99      0.98      0.99      1000\n",
            "    Pullover       0.86      0.89      0.88      1000\n",
            "       Dress       0.94      0.87      0.90      1000\n",
            "        Coat       0.88      0.80      0.84      1000\n",
            "      Sandal       0.98      0.98      0.98      1000\n",
            "       Shirt       0.72      0.79      0.76      1000\n",
            "     Sneaker       0.97      0.92      0.94      1000\n",
            "         Bag       0.98      0.99      0.98      1000\n",
            "  Ankle boot       0.92      0.98      0.95      1000\n",
            "\n",
            "    accuracy                           0.91     10000\n",
            "   macro avg       0.91      0.91      0.91     10000\n",
            "weighted avg       0.91      0.91      0.91     10000\n",
            "\n"
          ],
          "name": "stdout"
        }
      ]
    },
    {
      "cell_type": "code",
      "metadata": {
        "id": "MWJouIob9mzG",
        "colab_type": "code",
        "colab": {}
      },
      "source": [
        ""
      ],
      "execution_count": 0,
      "outputs": []
    }
  ]
}