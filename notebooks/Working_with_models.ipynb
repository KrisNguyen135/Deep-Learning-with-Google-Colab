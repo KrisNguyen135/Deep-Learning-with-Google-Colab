{
  "nbformat": 4,
  "nbformat_minor": 0,
  "metadata": {
    "colab": {
      "name": "Working with models.ipynb",
      "provenance": [],
      "collapsed_sections": [],
      "include_colab_link": true
    },
    "kernelspec": {
      "name": "python3",
      "display_name": "Python 3"
    }
  },
  "cells": [
    {
      "cell_type": "markdown",
      "metadata": {
        "id": "view-in-github",
        "colab_type": "text"
      },
      "source": [
        "<a href=\"https://colab.research.google.com/github/KrisNguyen135/Deep-Learning-with-Google-Colab/blob/master/notebooks/Working_with_models.ipynb\" target=\"_parent\"><img src=\"https://colab.research.google.com/assets/colab-badge.svg\" alt=\"Open In Colab\"/></a>"
      ]
    },
    {
      "cell_type": "code",
      "metadata": {
        "id": "SioO_AgpilnT",
        "colab_type": "code",
        "colab": {}
      },
      "source": [
        "import torch; torch.manual_seed(0)\n",
        "import matplotlib.pyplot as plt"
      ],
      "execution_count": 0,
      "outputs": []
    },
    {
      "cell_type": "code",
      "metadata": {
        "id": "Lwu55JQ5jXOt",
        "colab_type": "code",
        "outputId": "faec2924-3ce0-432e-b5b6-337cff26948d",
        "colab": {
          "base_uri": "https://localhost:8080/",
          "height": 269
        }
      },
      "source": [
        "# Data genearation and visualization.\n",
        "x = torch.rand(1000, 1)\n",
        "y = 2 * x + 0.1 * torch.rand(x.size())\n",
        "\n",
        "plt.scatter(x.data.numpy(), y.data.numpy())\n",
        "plt.xlim(0, 1)\n",
        "plt.ylim(0, 2)\n",
        "plt.show()"
      ],
      "execution_count": 0,
      "outputs": [
        {
          "output_type": "display_data",
          "data": {
            "image/png": "[encoded data removed]",
            "text/plain": [
              "<Figure size 432x288 with 1 Axes>"
            ]
          },
          "metadata": {
            "tags": []
          }
        }
      ]
    },
    {
      "cell_type": "code",
      "metadata": {
        "id": "Pg6sbANilCoo",
        "colab_type": "code",
        "colab": {}
      },
      "source": [
        "# Network structure.\n",
        "class MyNNet(torch.nn.Module):\n",
        "    def __init__(self, n_hidden):\n",
        "        super(MyNNet, self).__init__()\n",
        "        self.hidden = torch.nn.Linear(1, n_hidden)  # the single hidden layer\n",
        "        self.relu = torch.nn.ReLU()                # activation function\n",
        "        self.output = torch.nn.Linear(n_hidden, 1)  # output layer\n",
        "    \n",
        "    def forward(self, x):\n",
        "        out = self.hidden(x)\n",
        "        out = self.relu(out)\n",
        "        out = self.output(out)\n",
        "        return out"
      ],
      "execution_count": 0,
      "outputs": []
    },
    {
      "cell_type": "code",
      "metadata": {
        "id": "FjK44nYfs5HX",
        "colab_type": "code",
        "colab": {}
      },
      "source": [
        "# Set up model and training components.\n",
        "n_epoch = 10  # rounds of learning\n",
        "learning_rate = 0.001\n",
        "\n",
        "model = MyNNet(10)\n",
        "optimizer = torch.optim.SGD(model.parameters(), lr=learning_rate)  # adjusts the parameters\n",
        "loss_func = torch.nn.MSELoss()  # calculates the loss"
      ],
      "execution_count": 0,
      "outputs": []
    },
    {
      "cell_type": "code",
      "metadata": {
        "id": "nt27N_PBtma8",
        "colab_type": "code",
        "outputId": "89098426-307b-475a-d3eb-c39130abfd60",
        "colab": {
          "base_uri": "https://localhost:8080/",
          "height": 185
        }
      },
      "source": [
        "# Start training.\n",
        "for epoch in range(n_epoch):\n",
        "    for i in range(x.size()[0]):\n",
        "        y_pred = model(x[i])  # forward pass\n",
        "        loss = loss_func(y_pred, y[i])\n",
        "\n",
        "        optimizer.zero_grad()  # clear gradients for next pass\n",
        "        loss.backward()  # backward pass\n",
        "        optimizer.step()  # adjust parameters\n",
        "\n",
        "    print(f'Epoch {epoch + 1}. Loss: {loss.item():.4f}')"
      ],
      "execution_count": 0,
      "outputs": [
        {
          "output_type": "stream",
          "text": [
            "Epoch 1. Loss: 0.0170\n",
            "Epoch 2. Loss: 0.0061\n",
            "Epoch 3. Loss: 0.0012\n",
            "Epoch 4. Loss: 0.0001\n",
            "Epoch 5. Loss: 0.0001\n",
            "Epoch 6. Loss: 0.0006\n",
            "Epoch 7. Loss: 0.0012\n",
            "Epoch 8. Loss: 0.0018\n",
            "Epoch 9. Loss: 0.0022\n",
            "Epoch 10. Loss: 0.0025\n"
          ],
          "name": "stdout"
        }
      ]
    },
    {
      "cell_type": "code",
      "metadata": {
        "id": "ZHQn_KhEwgtR",
        "colab_type": "code",
        "outputId": "af9f4eab-cc32-4541-883e-282b49e8d4ec",
        "colab": {
          "base_uri": "https://localhost:8080/",
          "height": 269
        }
      },
      "source": [
        "x_test = torch.rand(50, 1)\n",
        "y_pred = []\n",
        "with torch.no_grad():\n",
        "    for i in range(x_test.size()[0]):\n",
        "        y_pred.append(model(x_test[i]).item())\n",
        "\n",
        "plt.scatter(x_test.data.numpy(), y_pred)\n",
        "plt.xlim(0, 1)\n",
        "plt.ylim(0, 2)\n",
        "plt.show()"
      ],
      "execution_count": 0,
      "outputs": [
        {
          "output_type": "display_data",
          "data": {
            "image/png": "[encoded data removed]",
            "text/plain": [
              "<Figure size 432x288 with 1 Axes>"
            ]
          },
          "metadata": {
            "tags": []
          }
        }
      ]
    },
    {
      "cell_type": "code",
      "metadata": {
        "id": "V951LfqkyX2V",
        "colab_type": "code",
        "outputId": "25d123e9-72c6-43da-8538-dba7d07edb8d",
        "colab": {
          "base_uri": "https://localhost:8080/",
          "height": 403
        }
      },
      "source": [
        "for param_tensor in model.state_dict():\n",
        "    print(param_tensor)\n",
        "    print(model.state_dict()[param_tensor])\n",
        "    print()"
      ],
      "execution_count": 0,
      "outputs": [
        {
          "output_type": "stream",
          "text": [
            "hidden.weight\n",
            "tensor([[ 0.5547],\n",
            "        [ 0.1284],\n",
            "        [ 0.1526],\n",
            "        [ 0.6374],\n",
            "        [ 1.0640],\n",
            "        [-0.4040],\n",
            "        [-0.1096],\n",
            "        [ 0.5825],\n",
            "        [-0.4846],\n",
            "        [ 1.3240]])\n",
            "\n",
            "hidden.bias\n",
            "tensor([-0.6850,  0.4552, -0.7183,  0.1971,  0.4783,  0.1762, -0.1002,  0.5312,\n",
            "        -0.7180, -0.2322])\n",
            "\n",
            "output.weight\n",
            "tensor([[-0.2695, -0.1310,  0.0082,  0.3098,  0.7014, -0.1078,  0.2632,  0.2117,\n",
            "         -0.0865,  0.7219]])\n",
            "\n",
            "output.bias\n",
            "tensor([-0.2447])\n",
            "\n"
          ],
          "name": "stdout"
        }
      ]
    },
    {
      "cell_type": "code",
      "metadata": {
        "id": "CMIYlPD2l9Q5",
        "colab_type": "code",
        "outputId": "b8c2d021-4b96-4267-f844-632e7b276c61",
        "colab": {
          "base_uri": "https://localhost:8080/",
          "height": 121
        }
      },
      "source": [
        "from google.colab import drive\n",
        "drive.mount('/content/gdrive')"
      ],
      "execution_count": 0,
      "outputs": [
        {
          "output_type": "stream",
          "text": [
            "Go to this URL in a browser: https://accounts.google.com/o/oauth2/auth?client_id=947318989803-6bn6qk8qdgf4n4g3pfee6491hc0brc4i.apps.googleusercontent.com&redirect_uri=urn%3Aietf%3Awg%3Aoauth%3A2.0%3Aoob&scope=email%20https%3A%2F%2Fwww.googleapis.com%2Fauth%2Fdocs.test%20https%3A%2F%2Fwww.googleapis.com%2Fauth%2Fdrive%20https%3A%2F%2Fwww.googleapis.com%2Fauth%2Fdrive.photos.readonly%20https%3A%2F%2Fwww.googleapis.com%2Fauth%2Fpeopleapi.readonly&response_type=code\n",
            "\n",
            "Enter your authorization code:\n",
            "··········\n",
            "Mounted at /content/gdrive\n"
          ],
          "name": "stdout"
        }
      ]
    },
    {
      "cell_type": "code",
      "metadata": {
        "id": "J7ywZgjRnoSC",
        "colab_type": "code",
        "colab": {}
      },
      "source": [
        "torch.save(model.state_dict(), '/content/gdrive/My Drive/sample.pth')"
      ],
      "execution_count": 0,
      "outputs": []
    },
    {
      "cell_type": "code",
      "metadata": {
        "id": "VbKU2XBLoGon",
        "colab_type": "code",
        "outputId": "17ca8de9-be0d-4e1d-ddcb-5ab4cf0b7aa9",
        "colab": {
          "base_uri": "https://localhost:8080/",
          "height": 101
        }
      },
      "source": [
        "model = MyNNet(10)\n",
        "model.load_state_dict(torch.load('/content/gdrive/My Drive/sample.pth'))\n",
        "model.eval()"
      ],
      "execution_count": 0,
      "outputs": [
        {
          "output_type": "execute_result",
          "data": {
            "text/plain": [
              "MyNNet(\n",
              "  (hidden): Linear(in_features=1, out_features=10, bias=True)\n",
              "  (relu): ReLU()\n",
              "  (output): Linear(in_features=10, out_features=1, bias=True)\n",
              ")"
            ]
          },
          "metadata": {
            "tags": []
          },
          "execution_count": 10
        }
      ]
    },
    {
      "cell_type": "code",
      "metadata": {
        "id": "5QgiObeColij",
        "colab_type": "code",
        "outputId": "f3cb57cc-d4a2-413b-a551-7da5d7113392",
        "colab": {
          "base_uri": "https://localhost:8080/",
          "height": 269
        }
      },
      "source": [
        "x_test = torch.rand(50, 1)\n",
        "y_pred = []\n",
        "with torch.no_grad():\n",
        "    for i in range(x_test.size()[0]):\n",
        "        y_pred.append(model(x_test[i]).item())\n",
        "\n",
        "plt.scatter(x_test.data.numpy(), y_pred)\n",
        "plt.xlim(0, 1)\n",
        "plt.ylim(0, 2)\n",
        "plt.show()"
      ],
      "execution_count": 0,
      "outputs": [
        {
          "output_type": "display_data",
          "data": {
            "image/png": "[encoded data removed]",
            "text/plain": [
              "<Figure size 432x288 with 1 Axes>"
            ]
          },
          "metadata": {
            "tags": []
          }
        }
      ]
    },
    {
      "cell_type": "code",
      "metadata": {
        "id": "pe3RNJU9ooLQ",
        "colab_type": "code",
        "colab": {}
      },
      "source": [
        "# Set up model and training components (version 2).\n",
        "n_epoch = 15  # rounds of learning\n",
        "learning_rate = 0.01\n",
        "\n",
        "model = MyNNet(15)\n",
        "optimizer = torch.optim.SGD(model.parameters(), lr=learning_rate)  # adjusts the parameters\n",
        "loss_func = torch.nn.MSELoss()  # calculates the loss"
      ],
      "execution_count": 0,
      "outputs": []
    },
    {
      "cell_type": "code",
      "metadata": {
        "id": "RhERIMShpDI7",
        "colab_type": "code",
        "outputId": "a353e564-d0a2-4fd3-b32c-fd0c7b3cc851",
        "colab": {
          "base_uri": "https://localhost:8080/",
          "height": 168
        }
      },
      "source": [
        "# Start training.\n",
        "for epoch in range(n_epoch):\n",
        "    if epoch == 10:\n",
        "        break\n",
        "    \n",
        "    for i in range(x.size()[0]):\n",
        "        y_pred = model(x[i])  # forward pass\n",
        "        loss = loss_func(y_pred, y[i])\n",
        "\n",
        "        optimizer.zero_grad()  # clear gradients for next pass\n",
        "        loss.backward()  # backward pass\n",
        "        optimizer.step()  # adjust parameters\n",
        "\n",
        "    print(f'Epoch {epoch + 1}. Loss: {loss.item():.4f}')"
      ],
      "execution_count": 0,
      "outputs": [
        {
          "output_type": "stream",
          "text": [
            "Epoch 1. Loss: 0.0027\n",
            "Epoch 2. Loss: 0.0027\n",
            "Epoch 3. Loss: 0.0026\n",
            "Epoch 4. Loss: 0.0026\n",
            "Epoch 5. Loss: 0.0026\n",
            "Epoch 6. Loss: 0.0025\n",
            "Epoch 7. Loss: 0.0025\n",
            "Epoch 8. Loss: 0.0024\n",
            "Epoch 9. Loss: 0.0024\n"
          ],
          "name": "stdout"
        }
      ]
    },
    {
      "cell_type": "code",
      "metadata": {
        "id": "zTeTMnwJpVtA",
        "colab_type": "code",
        "colab": {}
      },
      "source": [
        "torch.save({\n",
        "    'epoch': epoch,\n",
        "    'model_state_dict': model.state_dict(),\n",
        "    'optimizer_state_dict': optimizer.state_dict(),\n",
        "    'loss': loss\n",
        "}, '/content/gdrive/My Drive/sample_v2.tar')"
      ],
      "execution_count": 0,
      "outputs": []
    },
    {
      "cell_type": "code",
      "metadata": {
        "id": "wJAC9Q21pqis",
        "colab_type": "code",
        "outputId": "641a6e27-8519-43ff-f0a5-c1c0d7f18bbc",
        "colab": {
          "base_uri": "https://localhost:8080/",
          "height": 50
        }
      },
      "source": [
        "model = MyNNet(15)\n",
        "optimizer = torch.optim.SGD(model.parameters(), lr=learning_rate)\n",
        "\n",
        "checkpoint = torch.load('/content/gdrive/My Drive/sample_v2.tar')\n",
        "model.load_state_dict(checkpoint['model_state_dict'])\n",
        "optimizer.load_state_dict(checkpoint['optimizer_state_dict'])\n",
        "temp_epoch = checkpoint['epoch']\n",
        "loss = checkpoint['loss']\n",
        "\n",
        "print(temp_epoch)\n",
        "print(loss)"
      ],
      "execution_count": 0,
      "outputs": [
        {
          "output_type": "stream",
          "text": [
            "9\n",
            "tensor(0.0024, requires_grad=True)\n"
          ],
          "name": "stdout"
        }
      ]
    },
    {
      "cell_type": "code",
      "metadata": {
        "id": "Mu8nW7vcqNiC",
        "colab_type": "code",
        "colab": {}
      },
      "source": [
        "model.train()\n",
        "for epoch in range(temp_epoch, n_epoch):\n",
        "    ..."
      ],
      "execution_count": 0,
      "outputs": []
    }
  ]
}