{
  "nbformat": 4,
  "nbformat_minor": 0,
  "metadata": {
    "colab": {
      "name": "Recognizing handwritten digits.ipynb",
      "provenance": [],
      "collapsed_sections": [],
      "include_colab_link": true
    },
    "kernelspec": {
      "name": "python3",
      "display_name": "Python 3"
    },
    "accelerator": "GPU"
  },
  "cells": [
    {
      "cell_type": "markdown",
      "metadata": {
        "id": "view-in-github",
        "colab_type": "text"
      },
      "source": [
        "<a href=\"https://colab.research.google.com/github/KrisNguyen135/Deep-Learning-with-Google-Colab/blob/master/notebooks/Recognizing_handwritten_digits.ipynb\" target=\"_parent\"><img src=\"https://colab.research.google.com/assets/colab-badge.svg\" alt=\"Open In Colab\"/></a>"
      ]
    },
    {
      "cell_type": "code",
      "metadata": {
        "id": "0WemLZuS8gcl",
        "colab_type": "code",
        "colab": {}
      },
      "source": [
        "import torch; torch.manual_seed(0)\n",
        "import torchvision\n",
        "\n",
        "import numpy as np\n",
        "import matplotlib.pyplot as plt"
      ],
      "execution_count": 0,
      "outputs": []
    },
    {
      "cell_type": "code",
      "metadata": {
        "id": "pk4oq-V38pmm",
        "colab_type": "code",
        "outputId": "b3ebcc5c-a4b6-43d4-fb1e-1447e4e0fc43",
        "colab": {
          "base_uri": "https://localhost:8080/",
          "height": 530
        }
      },
      "source": [
        "my_transforms = torchvision.transforms.Compose([\n",
        "    torchvision.transforms.RandomRotation(5),\n",
        "    torchvision.transforms.ToTensor(),\n",
        "    torchvision.transforms.Normalize((0.1307,), (0.3081,))\n",
        "])\n",
        "\n",
        "train_dataset = torchvision.datasets.MNIST(\n",
        "    './train',\n",
        "    train=True,\n",
        "    download=True,\n",
        "    transform=my_transforms\n",
        ")\n",
        "\n",
        "val_dataset = torchvision.datasets.MNIST(\n",
        "    './eval',\n",
        "    train=False,\n",
        "    download=True,\n",
        "    transform=my_transforms\n",
        ")"
      ],
      "execution_count": 0,
      "outputs": [
        {
          "output_type": "stream",
          "text": [
            "\r0it [00:00, ?it/s]"
          ],
          "name": "stderr"
        },
        {
          "output_type": "stream",
          "text": [
            "Downloading http://yann.lecun.com/exdb/mnist/train-images-idx3-ubyte.gz to ./train/MNIST/raw/train-images-idx3-ubyte.gz\n"
          ],
          "name": "stdout"
        },
        {
          "output_type": "stream",
          "text": [
            "9920512it [00:05, 1801564.56it/s]                             \n"
          ],
          "name": "stderr"
        },
        {
          "output_type": "stream",
          "text": [
            "Extracting ./train/MNIST/raw/train-images-idx3-ubyte.gz\n"
          ],
          "name": "stdout"
        },
        {
          "output_type": "stream",
          "text": [
            "32768it [00:00, 330466.31it/s]\n",
            "0it [00:00, ?it/s]"
          ],
          "name": "stderr"
        },
        {
          "output_type": "stream",
          "text": [
            "Downloading http://yann.lecun.com/exdb/mnist/train-labels-idx1-ubyte.gz to ./train/MNIST/raw/train-labels-idx1-ubyte.gz\n",
            "Extracting ./train/MNIST/raw/train-labels-idx1-ubyte.gz\n",
            "Downloading http://yann.lecun.com/exdb/mnist/t10k-images-idx3-ubyte.gz to ./train/MNIST/raw/t10k-images-idx3-ubyte.gz\n"
          ],
          "name": "stdout"
        },
        {
          "output_type": "stream",
          "text": [
            "1654784it [00:00, 5253456.54it/s]                           \n",
            "8192it [00:00, 123573.96it/s]\n"
          ],
          "name": "stderr"
        },
        {
          "output_type": "stream",
          "text": [
            "Extracting ./train/MNIST/raw/t10k-images-idx3-ubyte.gz\n",
            "Downloading http://yann.lecun.com/exdb/mnist/t10k-labels-idx1-ubyte.gz to ./train/MNIST/raw/t10k-labels-idx1-ubyte.gz\n",
            "Extracting ./train/MNIST/raw/t10k-labels-idx1-ubyte.gz\n",
            "Processing...\n"
          ],
          "name": "stdout"
        },
        {
          "output_type": "stream",
          "text": [
            "  0%|          | 16384/9912422 [00:00<01:23, 118498.00it/s]"
          ],
          "name": "stderr"
        },
        {
          "output_type": "stream",
          "text": [
            "Done!\n",
            "Downloading http://yann.lecun.com/exdb/mnist/train-images-idx3-ubyte.gz to ./eval/MNIST/raw/train-images-idx3-ubyte.gz\n"
          ],
          "name": "stdout"
        },
        {
          "output_type": "stream",
          "text": [
            "9920512it [00:00, 24641051.34it/s]                           \n"
          ],
          "name": "stderr"
        },
        {
          "output_type": "stream",
          "text": [
            "Extracting ./eval/MNIST/raw/train-images-idx3-ubyte.gz\n"
          ],
          "name": "stdout"
        },
        {
          "output_type": "stream",
          "text": [
            "32768it [00:00, 332349.03it/s]\n",
            "0it [00:00, ?it/s]"
          ],
          "name": "stderr"
        },
        {
          "output_type": "stream",
          "text": [
            "Downloading http://yann.lecun.com/exdb/mnist/train-labels-idx1-ubyte.gz to ./eval/MNIST/raw/train-labels-idx1-ubyte.gz\n",
            "Extracting ./eval/MNIST/raw/train-labels-idx1-ubyte.gz\n",
            "Downloading http://yann.lecun.com/exdb/mnist/t10k-images-idx3-ubyte.gz to ./eval/MNIST/raw/t10k-images-idx3-ubyte.gz\n"
          ],
          "name": "stdout"
        },
        {
          "output_type": "stream",
          "text": [
            "1654784it [00:00, 5288296.58it/s]                           \n",
            "8192it [00:00, 130024.44it/s]\n"
          ],
          "name": "stderr"
        },
        {
          "output_type": "stream",
          "text": [
            "Extracting ./eval/MNIST/raw/t10k-images-idx3-ubyte.gz\n",
            "Downloading http://yann.lecun.com/exdb/mnist/t10k-labels-idx1-ubyte.gz to ./eval/MNIST/raw/t10k-labels-idx1-ubyte.gz\n",
            "Extracting ./eval/MNIST/raw/t10k-labels-idx1-ubyte.gz\n",
            "Processing...\n",
            "Done!\n"
          ],
          "name": "stdout"
        }
      ]
    },
    {
      "cell_type": "code",
      "metadata": {
        "id": "Ewhe5ZFA9qT7",
        "colab_type": "code",
        "outputId": "33677efc-fd29-4862-ee99-39d6cd48b037",
        "colab": {
          "base_uri": "https://localhost:8080/",
          "height": 158
        }
      },
      "source": [
        "print(train_dataset)\n",
        "print(val_dataset)"
      ],
      "execution_count": 0,
      "outputs": [
        {
          "output_type": "stream",
          "text": [
            "Dataset MNIST\n",
            "    Number of datapoints: 60000\n",
            "    Root location: ./train\n",
            "    Split: Train\n",
            "Dataset MNIST\n",
            "    Number of datapoints: 10000\n",
            "    Root location: ./eval\n",
            "    Split: Test\n"
          ],
          "name": "stdout"
        }
      ]
    },
    {
      "cell_type": "code",
      "metadata": {
        "id": "qdrHe5HA9s_a",
        "colab_type": "code",
        "colab": {}
      },
      "source": [
        "batch_size = 32\n",
        "\n",
        "train_loader = torch.utils.data.DataLoader(train_dataset, \n",
        "                                           batch_size=batch_size, shuffle=True)\n",
        "val_loader = torch.utils.data.DataLoader(val_dataset, batch_size=batch_size)"
      ],
      "execution_count": 0,
      "outputs": []
    },
    {
      "cell_type": "code",
      "metadata": {
        "id": "KhqQLUvJ-NK8",
        "colab_type": "code",
        "outputId": "7625dcdf-221b-45d5-be15-2da54a6a9302",
        "colab": {
          "base_uri": "https://localhost:8080/",
          "height": 306
        }
      },
      "source": [
        "for images, labels in train_loader:\n",
        "    grid = torchvision.utils.make_grid(images)\n",
        "    \n",
        "    plt.imshow(grid.numpy().transpose((1, 2, 0)))\n",
        "    plt.title(labels.numpy())\n",
        "    plt.axis('off')\n",
        "    \n",
        "    plt.show()\n",
        "    \n",
        "    break"
      ],
      "execution_count": 0,
      "outputs": [
        {
          "output_type": "stream",
          "text": [
            "Clipping input data to the valid range for imshow with RGB data ([0..1] for floats or [0..255] for integers).\n",
            "/usr/local/lib/python3.6/dist-packages/matplotlib/text.py:1191: FutureWarning: elementwise comparison failed; returning scalar instead, but in the future will perform elementwise comparison\n",
            "  if s != self._text:\n"
          ],
          "name": "stderr"
        },
        {
          "output_type": "display_data",
          "data": {
            "image/png": "[encoded data removed]",
            "text/plain": [
              "<Figure size 432x288 with 1 Axes>"
            ]
          },
          "metadata": {
            "tags": []
          }
        }
      ]
    },
    {
      "cell_type": "code",
      "metadata": {
        "id": "K3PyUQLo-gk6",
        "colab_type": "code",
        "outputId": "2152f164-0aa7-4754-afe9-de733fe104a6",
        "colab": {
          "base_uri": "https://localhost:8080/",
          "height": 306
        }
      },
      "source": [
        "for images, labels in val_loader:\n",
        "    grid = torchvision.utils.make_grid(images)\n",
        "    \n",
        "    plt.imshow(grid.numpy().transpose((1, 2, 0)))\n",
        "    plt.title(labels.numpy())\n",
        "    plt.axis('off')\n",
        "    \n",
        "    plt.show()\n",
        "    \n",
        "    break"
      ],
      "execution_count": 0,
      "outputs": [
        {
          "output_type": "stream",
          "text": [
            "Clipping input data to the valid range for imshow with RGB data ([0..1] for floats or [0..255] for integers).\n",
            "/usr/local/lib/python3.6/dist-packages/matplotlib/text.py:1191: FutureWarning: elementwise comparison failed; returning scalar instead, but in the future will perform elementwise comparison\n",
            "  if s != self._text:\n"
          ],
          "name": "stderr"
        },
        {
          "output_type": "display_data",
          "data": {
            "image/png": "[encoded data removed]",
            "text/plain": [
              "<Figure size 432x288 with 1 Axes>"
            ]
          },
          "metadata": {
            "tags": []
          }
        }
      ]
    },
    {
      "cell_type": "code",
      "metadata": {
        "id": "6GnU4v_gvMga",
        "colab_type": "code",
        "outputId": "c2abd499-06db-4a5e-a7d1-7009ae189758",
        "colab": {
          "base_uri": "https://localhost:8080/",
          "height": 34
        }
      },
      "source": [
        "train_dataset.data.shape"
      ],
      "execution_count": 0,
      "outputs": [
        {
          "output_type": "execute_result",
          "data": {
            "text/plain": [
              "torch.Size([60000, 28, 28])"
            ]
          },
          "metadata": {
            "tags": []
          },
          "execution_count": 7
        }
      ]
    },
    {
      "cell_type": "code",
      "metadata": {
        "id": "_PXFwYZg-y_q",
        "colab_type": "code",
        "colab": {}
      },
      "source": [
        "class DigitNet(torch.nn.Module):\n",
        "    def __init__(self, hidden_size1, hidden_size2):\n",
        "        super(DigitNet, self).__init__()\n",
        "        self.linear1 = torch.nn.Linear(28 * 28, hidden_size1)\n",
        "        self.relu1 = torch.nn.ReLU()\n",
        "        self.linear2 = torch.nn.Linear(hidden_size1, hidden_size2)\n",
        "        self.relu2 = torch.nn.ReLU()\n",
        "        self.output = torch.nn.Linear(hidden_size2, 10)\n",
        "    \n",
        "    def forward(self, x):\n",
        "        out = self.linear1(x)\n",
        "        out = self.relu1(out)\n",
        "        out = self.linear2(out)\n",
        "        out = self.relu2(out)\n",
        "        out = self.output(out)\n",
        "        \n",
        "        return out"
      ],
      "execution_count": 0,
      "outputs": []
    },
    {
      "cell_type": "code",
      "metadata": {
        "id": "K8a3OGmpvwKC",
        "colab_type": "code",
        "colab": {}
      },
      "source": [
        "n_epochs = 10\n",
        "learning_rate = 0.001\n",
        "\n",
        "model = DigitNet(128, 128)\n",
        "optimizer = torch.optim.SGD(model.parameters(), lr=learning_rate)\n",
        "criterion = torch.nn.CrossEntropyLoss()"
      ],
      "execution_count": 0,
      "outputs": []
    },
    {
      "cell_type": "code",
      "metadata": {
        "id": "raAnE61Uwe1L",
        "colab_type": "code",
        "outputId": "2fdbc446-be89-4f95-dc4f-709ad31953e9",
        "colab": {
          "base_uri": "https://localhost:8080/",
          "height": 34
        }
      },
      "source": [
        "if torch.cuda.is_available():\n",
        "    print('CUDA is available. Using the GPU.')\n",
        "    device = torch.device('cuda')\n",
        "else:\n",
        "    print('CUDA is not available. Using the CPU.')\n",
        "    device = torch.device('cpu')"
      ],
      "execution_count": 0,
      "outputs": [
        {
          "output_type": "stream",
          "text": [
            "CUDA is available. Using the GPU.\n"
          ],
          "name": "stdout"
        }
      ]
    },
    {
      "cell_type": "code",
      "metadata": {
        "id": "iv8gQyO8wttu",
        "colab_type": "code",
        "outputId": "b2a4532c-4865-4bf7-b598-e62e8b27dbe2",
        "colab": {
          "base_uri": "https://localhost:8080/",
          "height": 193
        }
      },
      "source": [
        "model = model.to(device)\n",
        "losses = []\n",
        "\n",
        "for epoch in range(n_epochs):\n",
        "    running_loss = 0\n",
        "    \n",
        "    for images, labels in train_loader:\n",
        "        images = images.reshape(-1, 28 * 28).to(device)\n",
        "        labels = labels.to(device)\n",
        "        \n",
        "        output = model(images)\n",
        "        loss = criterion(output, labels)\n",
        "        \n",
        "        optimizer.zero_grad()\n",
        "        loss.backward()\n",
        "        optimizer.step()\n",
        "        \n",
        "        running_loss += loss.item() * images.size(0)\n",
        "    \n",
        "    losses.append(running_loss / len(train_loader))\n",
        "    print(f'Epoch {epoch + 1}/{n_epochs}: {losses[-1]:.4f}')"
      ],
      "execution_count": 0,
      "outputs": [
        {
          "output_type": "stream",
          "text": [
            "Epoch 1/10: 59.5043\n",
            "Epoch 2/10: 25.4627\n",
            "Epoch 3/10: 15.9230\n",
            "Epoch 4/10: 13.1280\n",
            "Epoch 5/10: 11.7514\n",
            "Epoch 6/10: 10.8715\n",
            "Epoch 7/10: 10.2298\n",
            "Epoch 8/10: 9.7282\n",
            "Epoch 9/10: 9.3295\n",
            "Epoch 10/10: 8.9457\n"
          ],
          "name": "stdout"
        }
      ]
    },
    {
      "cell_type": "code",
      "metadata": {
        "id": "cAMNLe5rO6fd",
        "colab_type": "code",
        "outputId": "0cf72491-81b9-41c8-f78d-52afafd30a0c",
        "colab": {
          "base_uri": "https://localhost:8080/",
          "height": 269
        }
      },
      "source": [
        "plt.plot(losses)\n",
        "plt.show()"
      ],
      "execution_count": 0,
      "outputs": [
        {
          "output_type": "display_data",
          "data": {
            "image/png": "[encoded data removed]",
            "text/plain": [
              "<Figure size 432x288 with 1 Axes>"
            ]
          },
          "metadata": {
            "tags": []
          }
        }
      ]
    },
    {
      "cell_type": "code",
      "metadata": {
        "id": "yczkzFJax-TC",
        "colab_type": "code",
        "outputId": "961307c4-3241-4c2c-e1df-99131b3f65ef",
        "colab": {
          "base_uri": "https://localhost:8080/",
          "height": 34
        }
      },
      "source": [
        "with torch.no_grad():\n",
        "    correct = 0\n",
        "    total = 0\n",
        "    for images, labels in val_loader:\n",
        "        images = images.reshape(-1, 28 * 28).to(device)\n",
        "        labels = labels.to(device)\n",
        "        \n",
        "        output = model(images)\n",
        "        _, preds = torch.max(output.data, 1)\n",
        "        \n",
        "        total += labels.size(0)\n",
        "        correct += (preds == labels).sum().item()\n",
        "    \n",
        "    print(f'Accuracy: {100 * correct / total}%')"
      ],
      "execution_count": 0,
      "outputs": [
        {
          "output_type": "stream",
          "text": [
            "Accuracy: 92.35%\n"
          ],
          "name": "stdout"
        }
      ]
    },
    {
      "cell_type": "code",
      "metadata": {
        "id": "Uqjxe4Pi5NTC",
        "colab_type": "code",
        "outputId": "01ef2617-bde8-4f2c-86bf-1707d566e53e",
        "colab": {
          "base_uri": "https://localhost:8080/",
          "height": 270
        }
      },
      "source": [
        "import random\n",
        "\n",
        "n_images = 8\n",
        "\n",
        "with torch.no_grad():\n",
        "    for i in range(n_images):\n",
        "        plt.subplot(2, n_images // 2, i + 1)\n",
        "        index = random.randint(0, total - 1)\n",
        "        img, label = val_dataset[index]\n",
        "        \n",
        "        temp_img = img.reshape(-1, 28 * 28).to(device)\n",
        "        output = model(temp_img)\n",
        "        _, pred = torch.max(output.data, 1)\n",
        "        \n",
        "        plt.imshow(img.squeeze(0).numpy())\n",
        "        plt.title(f'Prediction: {pred.item()}\\nActual: {label}')\n",
        "        plt.axis('off')\n",
        "    \n",
        "    plt.show()"
      ],
      "execution_count": 0,
      "outputs": [
        {
          "output_type": "display_data",
          "data": {
            "image/png": "[encoded data removed]",
            "text/plain": [
              "<Figure size 432x288 with 8 Axes>"
            ]
          },
          "metadata": {
            "tags": []
          }
        }
      ]
    },
    {
      "cell_type": "code",
      "metadata": {
        "id": "z6p2M1RtVGdB",
        "colab_type": "code",
        "outputId": "6f50bb72-cd97-44f6-922a-664e8a0d4a80",
        "colab": {
          "base_uri": "https://localhost:8080/",
          "height": 140
        }
      },
      "source": [
        "model1 = torch.nn.Sequential(\n",
        "    torch.nn.Linear(784, 128),\n",
        "    torch.nn.ReLU(),\n",
        "    torch.nn.Linear(128, 128),\n",
        "    torch.nn.ReLU(),\n",
        "    torch.nn.Linear(128, 10)\n",
        ")\n",
        "\n",
        "model1"
      ],
      "execution_count": 0,
      "outputs": [
        {
          "output_type": "execute_result",
          "data": {
            "text/plain": [
              "Sequential(\n",
              "  (0): Linear(in_features=784, out_features=128, bias=True)\n",
              "  (1): ReLU()\n",
              "  (2): Linear(in_features=128, out_features=128, bias=True)\n",
              "  (3): ReLU()\n",
              "  (4): Linear(in_features=128, out_features=10, bias=True)\n",
              ")"
            ]
          },
          "metadata": {
            "tags": []
          },
          "execution_count": 15
        }
      ]
    },
    {
      "cell_type": "code",
      "metadata": {
        "id": "k6XYyL7HfofT",
        "colab_type": "code",
        "outputId": "af2efb42-71f4-412d-ba0a-de850639cf0f",
        "colab": {
          "base_uri": "https://localhost:8080/",
          "height": 140
        }
      },
      "source": [
        "model"
      ],
      "execution_count": 0,
      "outputs": [
        {
          "output_type": "execute_result",
          "data": {
            "text/plain": [
              "DigitNet(\n",
              "  (linear1): Linear(in_features=784, out_features=128, bias=True)\n",
              "  (relu1): ReLU()\n",
              "  (linear2): Linear(in_features=128, out_features=128, bias=True)\n",
              "  (relu2): ReLU()\n",
              "  (output): Linear(in_features=128, out_features=10, bias=True)\n",
              ")"
            ]
          },
          "metadata": {
            "tags": []
          },
          "execution_count": 16
        }
      ]
    },
    {
      "cell_type": "code",
      "metadata": {
        "id": "JDYsCG1kfmCI",
        "colab_type": "code",
        "outputId": "630ed72b-c3b6-46c2-85bf-2766083200d9",
        "colab": {
          "base_uri": "https://localhost:8080/",
          "height": 105
        }
      },
      "source": [
        "model2 = torch.nn.Sequential(\n",
        "    torch.nn.Linear(784, 256),\n",
        "    torch.nn.ReLU(),\n",
        "    torch.nn.Linear(256, 10)\n",
        ")\n",
        "\n",
        "model2"
      ],
      "execution_count": 0,
      "outputs": [
        {
          "output_type": "execute_result",
          "data": {
            "text/plain": [
              "Sequential(\n",
              "  (0): Linear(in_features=784, out_features=256, bias=True)\n",
              "  (1): ReLU()\n",
              "  (2): Linear(in_features=256, out_features=10, bias=True)\n",
              ")"
            ]
          },
          "metadata": {
            "tags": []
          },
          "execution_count": 17
        }
      ]
    },
    {
      "cell_type": "code",
      "metadata": {
        "id": "Yq3B4MnXfs_a",
        "colab_type": "code",
        "colab": {}
      },
      "source": [
        ""
      ],
      "execution_count": 0,
      "outputs": []
    }
  ]
}