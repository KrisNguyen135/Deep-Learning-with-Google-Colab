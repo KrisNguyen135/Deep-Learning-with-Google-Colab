{
  "nbformat": 4,
  "nbformat_minor": 0,
  "metadata": {
    "colab": {
      "name": "Ensembles in deep learning.ipynb",
      "provenance": [],
      "collapsed_sections": [],
      "include_colab_link": true
    },
    "kernelspec": {
      "name": "python3",
      "display_name": "Python 3"
    }
  },
  "cells": [
    {
      "cell_type": "markdown",
      "metadata": {
        "id": "view-in-github",
        "colab_type": "text"
      },
      "source": [
        "<a href=\"https://colab.research.google.com/github/KrisNguyen135/Deep-Learning-with-Google-Colab/blob/master/notebooks/Ensembles_in_deep_learning.ipynb\" target=\"_parent\"><img src=\"https://colab.research.google.com/assets/colab-badge.svg\" alt=\"Open In Colab\"/></a>"
      ]
    },
    {
      "cell_type": "code",
      "metadata": {
        "id": "yLCZcI9ZCw79",
        "colab_type": "code",
        "colab": {}
      },
      "source": [
        "import torch\n",
        "import torchvision"
      ],
      "execution_count": 0,
      "outputs": []
    },
    {
      "cell_type": "code",
      "metadata": {
        "id": "gAfC1ESKCuxY",
        "colab_type": "code",
        "colab": {}
      },
      "source": [
        "# Build an overarching layer on top.\n",
        "class EnsembledNet(torch.nn.Module):\n",
        "    def __init__(self):\n",
        "        super(EnsembledNet, self).__init__()\n",
        "        self.conv_net = ConvNet()\n",
        "        self.res_net = ResNet()\n",
        "        self.relu = torch.nn.ReLU()\n",
        "        self.output = torch.nn.Linear(total_n_channels, n_classes)\n",
        "    \n",
        "    def forward(self, x):\n",
        "        out1 = self.conv_net(x)\n",
        "        out2 = self.res_net(x)\n",
        "        \n",
        "        out = torch.cat((out1, out2), dim=1)\n",
        "        out = self.relu(out)\n",
        "        out = self.output(out)\n",
        "        \n",
        "        return out\n",
        "\n",
        "model = EnsembledNet().to(device)"
      ],
      "execution_count": 0,
      "outputs": []
    },
    {
      "cell_type": "code",
      "metadata": {
        "id": "FZb08XNukpVi",
        "colab_type": "code",
        "colab": {}
      },
      "source": [
        "# Use dropout\n",
        "class DropoutNet(torch.nn.Module):\n",
        "    def __init__(self):\n",
        "        super(DropoutNet, self).__init__()\n",
        "        \n",
        "        self.dropout1d = torch.nn.Dropout()\n",
        "        self.dropout2d = torch.nn.Dropout2d()\n",
        "        \n",
        "        self.conv1 = torch.nn.Conv2d(...)\n",
        "        self.pooling1 = ...\n",
        "        self.relu1 = ...\n",
        "        \n",
        "        self.conv2 = torch.nn.Conv2d(...)\n",
        "        self.pooling2 = ...\n",
        "        self.relu2 = ...\n",
        "        \n",
        "        self.output = torch.nn.Linear(...)\n",
        "        \n",
        "    def forward(self, x):\n",
        "        out = self.conv1(x)\n",
        "        out = self.pooling1(out)\n",
        "        out = self.relu1(out)\n",
        "        \n",
        "        out = self.dropout2d(out)  # dropout before the next conv layer\n",
        "        \n",
        "        out = self.conv2(out)\n",
        "        out = self.pooling2(out)\n",
        "        out = self.relu2(out)\n",
        "        \n",
        "        out = out.view(-1, ...)  # flatten the data\n",
        "        \n",
        "        out = self.dropout1d(out)  # dropout before the final output layer\n",
        "        \n",
        "        out = self.output(out)\n",
        "        \n",
        "        return out\n",
        "\n",
        "# Training.\n",
        "model = DropoutNet()\n",
        "model.train()\n",
        "...\n",
        "\n",
        "# Evalutation.\n",
        "model.eval()"
      ],
      "execution_count": 0,
      "outputs": []
    }
  ]
}