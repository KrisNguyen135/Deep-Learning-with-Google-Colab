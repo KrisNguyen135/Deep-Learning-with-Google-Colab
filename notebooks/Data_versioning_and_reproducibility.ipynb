{
  "nbformat": 4,
  "nbformat_minor": 0,
  "metadata": {
    "colab": {
      "name": "Data versioning and reproducibility.ipynb",
      "provenance": [],
      "collapsed_sections": [],
      "include_colab_link": true
    },
    "kernelspec": {
      "name": "python3",
      "display_name": "Python 3"
    }
  },
  "cells": [
    {
      "cell_type": "markdown",
      "metadata": {
        "id": "view-in-github",
        "colab_type": "text"
      },
      "source": [
        "<a href=\"https://colab.research.google.com/github/KrisNguyen135/Deep-Learning-with-Google-Colab/blob/master/notebooks/Data_versioning_and_reproducibility.ipynb\" target=\"_parent\"><img src=\"https://colab.research.google.com/assets/colab-badge.svg\" alt=\"Open In Colab\"/></a>"
      ]
    },
    {
      "cell_type": "code",
      "metadata": {
        "id": "fUVCJcqHLDjl",
        "colab_type": "code",
        "outputId": "432ebfd4-a51b-419c-e4bc-7e7e74fdc68c",
        "colab": {
          "base_uri": "https://localhost:8080/",
          "height": 87
        }
      },
      "source": [
        "!git lfs"
      ],
      "execution_count": 0,
      "outputs": [
        {
          "output_type": "stream",
          "text": [
            "git: 'lfs' is not a git command. See 'git --help'.\n",
            "\n",
            "The most similar command is\n",
            "\tlog\n"
          ],
          "name": "stdout"
        }
      ]
    },
    {
      "cell_type": "code",
      "metadata": {
        "id": "w488zCUOC6WB",
        "colab_type": "code",
        "outputId": "cdeb9f66-c7e3-475b-b33a-0aa6df28597f",
        "colab": {
          "base_uri": "https://localhost:8080/",
          "height": 1000
        }
      },
      "source": [
        "# Install Git LFS.\n",
        "!curl -s https://packagecloud.io/install/repositories/github/git-lfs/script.deb.sh | sudo bash\n",
        "!apt-get install git-lfs\n",
        "!git lfs install\n",
        "\n",
        "!git lfs"
      ],
      "execution_count": 0,
      "outputs": [
        {
          "output_type": "stream",
          "text": [
            "Detected operating system as Ubuntu/bionic.\n",
            "Checking for curl...\n",
            "Detected curl...\n",
            "Checking for gpg...\n",
            "Detected gpg...\n",
            "Running apt-get update... done.\n",
            "Installing apt-transport-https... done.\n",
            "Installing /etc/apt/sources.list.d/github_git-lfs.list...done.\n",
            "Importing packagecloud gpg key... done.\n",
            "Running apt-get update... done.\n",
            "\n",
            "The repository is setup! You can now install packages.\n",
            "Reading package lists... Done\n",
            "Building dependency tree       \n",
            "Reading state information... Done\n",
            "The following package was automatically installed and is no longer required:\n",
            "  libnvidia-common-410\n",
            "Use 'apt autoremove' to remove it.\n",
            "The following NEW packages will be installed:\n",
            "  git-lfs\n",
            "0 upgraded, 1 newly installed, 0 to remove and 48 not upgraded.\n",
            "Need to get 5,740 kB of archives.\n",
            "After this operation, 14.0 MB of additional disk space will be used.\n",
            "Get:1 https://packagecloud.io/github/git-lfs/ubuntu bionic/main amd64 git-lfs amd64 2.8.0 [5,740 kB]\n",
            "Fetched 5,740 kB in 1s (9,887 kB/s)\n",
            "Selecting previously unselected package git-lfs.\n",
            "(Reading database ... 131293 files and directories currently installed.)\n",
            "Preparing to unpack .../git-lfs_2.8.0_amd64.deb ...\n",
            "Unpacking git-lfs (2.8.0) ...\n",
            "Setting up git-lfs (2.8.0) ...\n",
            "Git LFS initialized.\n",
            "Processing triggers for man-db (2.8.3-2ubuntu0.1) ...\n",
            "Git LFS initialized.\n",
            "git-lfs/2.8.0 (GitHub; linux amd64; go 1.12.6)\n",
            "git lfs <command> [<args>]\n",
            "\n",
            "Git LFS is a system for managing and versioning large files in\n",
            "association with a Git repository.  Instead of storing the large files\n",
            "within the Git repository as blobs, Git LFS stores special \"pointer\n",
            "files\" in the repository, while storing the actual file contents on a\n",
            "Git LFS server.  The contents of the large file are downloaded\n",
            "automatically when needed, for example when a Git branch containing\n",
            "the large file is checked out.\n",
            "\n",
            "Git LFS works by using a \"smudge\" filter to look up the large file\n",
            "contents based on the pointer file, and a \"clean\" filter to create a\n",
            "new version of the pointer file when the large file's contents change.\n",
            "It also uses a pre-push hook to upload the large file contents to\n",
            "the Git LFS server whenever a commit containing a new large file\n",
            "version is about to be pushed to the corresponding Git server.\n",
            "\n",
            "Commands\n",
            "--------\n",
            "\n",
            "Like Git, Git LFS commands are separated into high level (\"porcelain\")\n",
            "commands and low level (\"plumbing\") commands.\n",
            "\n",
            "High level commands \n",
            "--------------------\n",
            "\n",
            "* git lfs env:\n",
            "    Display the Git LFS environment.\n",
            "* git lfs checkout:\n",
            "    Populate working copy with real content from Git LFS files.\n",
            "* git lfs fetch:\n",
            "    Download Git LFS files from a remote.\n",
            "* git lfs fsck:\n",
            "    Check Git LFS files for consistency.\n",
            "* git lfs install:\n",
            "    Install Git LFS configuration.\n",
            "* git lfs lock:\n",
            "    Set a file as \"locked\" on the Git LFS server.\n",
            "* git lfs locks:\n",
            "    List currently \"locked\" files from the Git LFS server.\n",
            "* git lfs logs:\n",
            "    Show errors from the Git LFS command.\n",
            "* git lfs ls-files:\n",
            "    Show information about Git LFS files in the index and working tree.\n",
            "* git lfs migrate:\n",
            "    Migrate history to or from Git LFS\n",
            "* git lfs prune:\n",
            "    Delete old Git LFS files from local storage\n",
            "* git lfs pull:\n",
            "    Fetch Git LFS changes from the remote & checkout any required working tree\n",
            "    files.\n",
            "* git lfs push:\n",
            "    Push queued large files to the Git LFS endpoint.\n",
            "* git lfs status:\n",
            "    Show the status of Git LFS files in the working tree.\n",
            "* git lfs track:\n",
            "    View or add Git LFS paths to Git attributes.\n",
            "* git lfs uninstall:\n",
            "    Uninstall Git LFS by removing hooks and smudge/clean filter configuration.\n",
            "* git lfs unlock:\n",
            "    Remove \"locked\" setting for a file on the Git LFS server.\n",
            "* git lfs untrack:\n",
            "    Remove Git LFS paths from Git Attributes.\n",
            "* git lfs update:\n",
            "    Update Git hooks for the current Git repository.\n",
            "* git lfs version:\n",
            "    Report the version number.\n",
            "  \n",
            "Low level commands \n",
            "-------------------\n",
            "\n",
            "* git lfs clean:\n",
            "    Git clean filter that converts large files to pointers.\n",
            "* git lfs pointer:\n",
            "    Build and compare pointers.\n",
            "* git lfs pre-push:\n",
            "    Git pre-push hook implementation.\n",
            "* git lfs filter-process:\n",
            "    Git process filter that converts between large files and pointers.\n",
            "* git lfs smudge:\n",
            "    Git smudge filter that converts pointer in blobs to the actual content.\n",
            "  \n",
            "Examples\n",
            "--------\n",
            "\n",
            "To get started with Git LFS, the following commands can be used.\n",
            "\n",
            " 1. Setup Git LFS on your system. You only have to do this once per\n",
            "    repository per machine:\n",
            "\n",
            "        git lfs install\n",
            "\n",
            " 2. Choose the type of files you want to track, for examples all ISO\n",
            "    images, with git lfs track:\n",
            "\n",
            "        git lfs track \"*.iso\"\n",
            "\n",
            " 3. The above stores this information in gitattributes(5) files, so\n",
            "    that file need to be added to the repository:\n",
            "\n",
            "        git add .gitattributes\n",
            "\n",
            " 3. Commit, push and work with the files normally:\n",
            "\n",
            "        git add file.iso\n",
            "        git commit -m \"Add disk image\"\n",
            "        git push\n"
          ],
          "name": "stdout"
        }
      ]
    },
    {
      "cell_type": "code",
      "metadata": {
        "id": "fpKc9na6GGwT",
        "colab_type": "code",
        "colab": {}
      },
      "source": [
        "# Manually set the random seeds.\n",
        "import torch\n",
        "torch.manual_seed(0)\n",
        "\n",
        "import numpy as np\n",
        "np.random.seed(0)\n",
        "\n",
        "import random\n",
        "random.seed(0)"
      ],
      "execution_count": 0,
      "outputs": []
    },
    {
      "cell_type": "code",
      "metadata": {
        "id": "xo2MwinyMW4h",
        "colab_type": "code",
        "colab": {}
      },
      "source": [
        ""
      ],
      "execution_count": 0,
      "outputs": []
    }
  ]
}